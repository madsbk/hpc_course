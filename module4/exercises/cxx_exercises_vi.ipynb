{
 "cells": [
  {
   "cell_type": "markdown",
   "metadata": {},
   "source": [
    "# C++ Exercises VI\n",
    "## NB: Remember to move this notebook into `/erda_mount` before starting."
   ]
  },
  {
   "cell_type": "markdown",
   "metadata": {},
   "source": [
    "### 1) Make the simplest possible MPI program, the processes should simply meet in a barrier and then terminate. Experiment with the time it takes to run the program with varying number of processes"
   ]
  },
  {
   "cell_type": "code",
   "execution_count": null,
   "metadata": {},
   "outputs": [],
   "source": []
  },
  {
   "cell_type": "markdown",
   "metadata": {},
   "source": [
    "### 2) Write a program where process zero sends a message that contains the values [0:1023] to each other process the execution, the receiving process should return the values in the array plus the MPI process number of the process. The flow of the program should be that process zero sends and receives to each other process in process order."
   ]
  },
  {
   "cell_type": "code",
   "execution_count": null,
   "metadata": {},
   "outputs": [],
   "source": []
  },
  {
   "cell_type": "markdown",
   "metadata": {},
   "source": [
    "### 3) Repeat the program from the previous question, but change the flow so that process zero sends to all processes in process order first and then receives the replies in the same order."
   ]
  },
  {
   "cell_type": "code",
   "execution_count": null,
   "metadata": {},
   "outputs": [],
   "source": []
  },
  {
   "cell_type": "markdown",
   "metadata": {},
   "source": [
    "### 4) Repeat the previous pattern once again, but improve the process so that the initial send- to-all pattern is replaced with a broadcast operation."
   ]
  },
  {
   "cell_type": "code",
   "execution_count": null,
   "metadata": {},
   "outputs": [],
   "source": []
  },
  {
   "cell_type": "markdown",
   "metadata": {},
   "source": [
    "### 5) Repeat the previous pattern, but replace the receive sequence with an all-gather operation."
   ]
  },
  {
   "cell_type": "code",
   "execution_count": null,
   "metadata": {},
   "outputs": [],
   "source": []
  },
  {
   "cell_type": "markdown",
   "metadata": {},
   "source": [
    "### 6) Implement a Monte Carlo Pi in MPI, use a reduction operation to collect the partial results."
   ]
  },
  {
   "cell_type": "code",
   "execution_count": null,
   "metadata": {},
   "outputs": [],
   "source": []
  },
  {
   "cell_type": "markdown",
   "metadata": {},
   "source": [
    "### 7) Write a program that configures the process network as a cartesian grid.\n"
   ]
  },
  {
   "cell_type": "code",
   "execution_count": null,
   "metadata": {},
   "outputs": [],
   "source": []
  },
  {
   "cell_type": "markdown",
   "metadata": {},
   "source": [
    "### 8) In the cartesian grid send the following values; +1 left and up, -1 right and down. Validate that the sum of received values is zero."
   ]
  },
  {
   "cell_type": "code",
   "execution_count": null,
   "metadata": {},
   "outputs": [],
   "source": []
  },
  {
   "cell_type": "markdown",
   "metadata": {},
   "source": [
    "### 9) Improve the previous program to use non-blocking send and receive so that you need not worry about send-receive order."
   ]
  },
  {
   "cell_type": "code",
   "execution_count": null,
   "metadata": {},
   "outputs": [],
   "source": []
  },
  {
   "cell_type": "markdown",
   "metadata": {},
   "source": [
    "### 10) Let a set of MPI processes hold each their part of a matrix, where each process holds a number of rows in the matrix. Using the all-to-all MPI operation write a function that transposes the matrix."
   ]
  },
  {
   "cell_type": "code",
   "execution_count": null,
   "metadata": {},
   "outputs": [],
   "source": []
  },
  {
   "cell_type": "markdown",
   "metadata": {},
   "source": [
    "### 11) Write an MPI program that calculates the Mandlebrot set in parallel in four ways\n",
    "    - a. Blocked horizontally, i.e. each process calculates a set of contiguous lines.\n",
    "    - b. Blocked vertically, i.e. each process calculates a set of contiguous columns.\n",
    "    - c. Horizontal round-robin, i.e. each process calculates every n’th line where n is the number of processes in the program.\n",
    "    - d. Tiled, i.e. the set is divided into a set of rectangles [xmin:xmax, ymin:ymax] and each process calculates one such rectangle."
   ]
  },
  {
   "cell_type": "code",
   "execution_count": null,
   "metadata": {},
   "outputs": [],
   "source": []
  }
 ],
 "metadata": {
  "kernelspec": {
   "display_name": "C++17",
   "language": "C++17",
   "name": "xcpp17"
  },
  "language_info": {
   "codemirror_mode": "text/x-c++src",
   "file_extension": ".cpp",
   "mimetype": "text/x-c++src",
   "name": "c++",
   "version": "17"
  }
 },
 "nbformat": 4,
 "nbformat_minor": 4
}
