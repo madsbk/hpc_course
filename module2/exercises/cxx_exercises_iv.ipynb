{
 "cells": [
  {
   "cell_type": "markdown",
   "metadata": {},
   "source": [
    "# C++ Exercises IV\n",
    "## NB: Remember to move this notebook into `/erda_mount` before starting."
   ]
  },
  {
   "cell_type": "markdown",
   "metadata": {},
   "source": [
    "# In this exercise you will try and make a more precise danger map based on the below map, taken from this story: https://what-if.xkcd.com/29/\n",
    "\n",
    "<img src=\"https://what-if.xkcd.com/imgs/a/29/pool_safe.png\">\n",
    "\n",
    "The objective is to build a map that can help build intuition of just how efficient water is for encaging radioactive materials. For the different radiation levels we will be inspired by the constants in this figure:\n",
    "<img src=\"https://upload.wikimedia.org/wikipedia/commons/2/20/Radiation_Dose_Chart_by_Xkcd.png\">"
   ]
  },
  {
   "cell_type": "markdown",
   "metadata": {},
   "source": [
    "## Introduction"
   ]
  },
  {
   "cell_type": "markdown",
   "metadata": {},
   "source": [
    "We will model a spent fuel pool that is 4m by 4m.\n",
    "The fuel will be placed at the bottom of the pool, in the middle. For convinience we model the fuel as a point rather than an actual geometry as in the cartoon. \n",
    "At the point of the fuel the radiation is 500 Sv every 10 min\n",
    "Radiation is halved for every 7cm of water.\n",
    "\n",
    "*Overall objective: Make a map that shows radiation danger for `10sec` exposure throughout the pool*"
   ]
  },
  {
   "cell_type": "markdown",
   "metadata": {},
   "source": [
    "### 1) Scale and model the 4m x 4m pool with Bohrium"
   ]
  },
  {
   "cell_type": "code",
   "execution_count": null,
   "metadata": {},
   "outputs": [],
   "source": []
  },
  {
   "cell_type": "markdown",
   "metadata": {},
   "source": [
    "### 2) Place the fuel at the middle of the bottom of your grid. NB! we are looking at the pool from the side, not top-down"
   ]
  },
  {
   "cell_type": "code",
   "execution_count": null,
   "metadata": {},
   "outputs": [],
   "source": []
  },
  {
   "cell_type": "markdown",
   "metadata": {},
   "source": [
    "### 3) Calculate the exponential dampening of the radiation for each grid point (halved by every 7cm)"
   ]
  },
  {
   "cell_type": "code",
   "execution_count": null,
   "metadata": {},
   "outputs": [],
   "source": []
  },
  {
   "cell_type": "markdown",
   "metadata": {},
   "source": [
    "### 4) What is the maximum and minimum radition we observe from a 10 second exposure inside the pool?"
   ]
  },
  {
   "cell_type": "code",
   "execution_count": null,
   "metadata": {},
   "outputs": [],
   "source": []
  },
  {
   "cell_type": "markdown",
   "metadata": {},
   "source": [
    "### 5) Save the model to an `HDF5` file. (See the forest_exercise for inspiration)"
   ]
  },
  {
   "cell_type": "code",
   "execution_count": null,
   "metadata": {},
   "outputs": [],
   "source": []
  },
  {
   "cell_type": "markdown",
   "metadata": {},
   "source": [
    "### 6) Load the HDF5 file into python and visualise the map with `matplotlib`. (See the forest_exercise for inspiration)"
   ]
  },
  {
   "cell_type": "code",
   "execution_count": null,
   "metadata": {},
   "outputs": [],
   "source": []
  }
 ],
 "metadata": {
  "kernelspec": {
   "display_name": "C++17",
   "language": "C++17",
   "name": "xcpp17"
  },
  "language_info": {
   "codemirror_mode": "text/x-c++src",
   "file_extension": ".cpp",
   "mimetype": "text/x-c++src",
   "name": "c++",
   "version": "17"
  }
 },
 "nbformat": 4,
 "nbformat_minor": 4
}
